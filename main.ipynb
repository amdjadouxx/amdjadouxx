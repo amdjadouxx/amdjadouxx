{
 "cells": [
  {
   "cell_type": "code",
   "execution_count": null,
   "metadata": {
    "vscode": {
     "languageId": "plaintext"
    }
   },
   "outputs": [],
   "source": [
    "import pandas as pd\n",
    "from sklearn.linear_model import LogisticRegression\n",
    "from sklearn.neighbors import KNeighborsClassifier\n",
    "from sklearn.tree import DecisionTreeClassifier\n",
    "from sklearn.pipeline import Pipeline\n",
    "from sklearn.preprocessing import StandardScaler\n",
    "from sklearn.model_selection import GridSearchCV, KFold, train_test_split\n",
    "from sklearn.metrics import accuracy_score, precision_score, recall_score, f1_score, confusion_matrix\n",
    "import seaborn as sns\n",
    "import matplotlib.pyplot as plt\n",
    "\n",
    "df = pd.read_csv(\"data/lfw_arnie_nonarnie.csv\")\n",
    "\n",
    "X = df.drop('Label', axis=1)\n",
    "y = df['Label'] \n",
    "\n",
    "X_train, X_test, y_train, y_test = train_test_split(X, y, test_size=0.2, random_state=21, stratify=y)"
   ]
  },
  {
   "cell_type": "code",
   "execution_count": null,
   "metadata": {
    "vscode": {
     "languageId": "plaintext"
    }
   },
   "outputs": [],
   "source": [
    "\n",
    "models= {\"KNeighborsClassifier\" : KNeighborsClassifier(), \"LogisticRegression\" : LogisticRegression(), \"DecisionTreeClassifier\" : DecisionTreeClassifier()}\n",
    "\n",
    "params = {\"KNeighborsClassifier\" : { \"KNeighborsClassifier__n_neighbors\" : range(0,10)}, \"LogisticRegression\" : { \"LogisticRegression__C\" : [0.01, 0.1, 1, 10]}, \"DecisionTreeClassifier\": {\"DecisionTreeClassifier__max_depth\": [2, 5, 10],\n",
    "           \"DecisionTreeClassifier__min_samples_split\": [2, 5, 10, 20],\n",
    "           \"DecisionTreeClassifier__random_state\": [42]}}"
   ]
  },
  {
   "cell_type": "code",
   "execution_count": null,
   "metadata": {
    "vscode": {
     "languageId": "plaintext"
    }
   },
   "outputs": [],
   "source": [
    "kf = KFold(n_splits=5,random_state=42,shuffle=True)\n",
    "pipe_accuracies = {}\n",
    "pipe_params = {}\n",
    "pipelines ={}\n",
    "\n",
    "for name,model in models.items():\n",
    "    pipeline = Pipeline(steps=[(\"scaler\", StandardScaler()), (name, model)])\n",
    "    gs = GridSearchCV(pipeline, params[name], cv=kf, scoring=\"accuracy\")\n",
    "    gs.fit(X_train,y_train)\n",
    "    pipe_accuracies[name] = gs.best_score_\n",
    "    pipe_params[name] = gs.best_params_\n",
    "    pipelines[name] = gs\n",
    "    \n",
    "best_model_name = max(pipe_accuracies)\n",
    "best_model_cv_score = max(pipe_accuracies.values())\n",
    "best_model_info = pipe_params[best_model_name]\n",
    "\n",
    "print(f\"Best Model: {best_model_name}\")\n",
    "print(f\"Best Model Parameters: {best_model_info}\")\n",
    "print(f\"Best Model CV Score: {best_model_cv_score}\")\n",
    "\n",
    "y_pred = pipelines[best_model_name].predict(X_test)\n",
    "accuracy = accuracy_score(y_test, y_pred)\n",
    "precision = precision_score(y_test, y_pred)\n",
    "recall = recall_score(y_test, y_pred)\n",
    "f1 = f1_score(y_test, y_pred)"
   ]
  }
 ],
 "metadata": {
  "language_info": {
   "name": "python"
  }
 },
 "nbformat": 4,
 "nbformat_minor": 2
}
